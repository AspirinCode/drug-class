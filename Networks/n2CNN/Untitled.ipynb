{
 "cells": [
  {
   "cell_type": "code",
   "execution_count": 6,
   "metadata": {},
   "outputs": [],
   "source": [
    "from rdkit import Chem\n",
    "from rdkit.Chem import Draw\n",
    "import glob\n",
    "import numpy as np\n",
    "import pandas as pd\n",
    "import PIL\n",
    "from random import sample\n",
    "import csv"
   ]
  },
  {
   "cell_type": "markdown",
   "metadata": {},
   "source": [
    "# read pubchem CIDs"
   ]
  },
  {
   "cell_type": "code",
   "execution_count": 34,
   "metadata": {},
   "outputs": [
    {
     "name": "stdout",
     "output_type": "stream",
     "text": [
      "['../data/gastrointestinal.txt', '../data/dermatologic.txt', '../data/urological.txt', '../data/cns.txt', '../data/antirhuemetic.txt', '../data/antiinfective.txt', '../data/antineoplastic.txt', '../data/reproductivecontrol.txt', '../data/lipidregulating.txt', '../data/hematologic.txt', '../data/respiratorysystem.txt', '../data/cardio.txt', '../data/antiinflammatory.txt']\n",
      "['CID: 134715169', 'CID: 134694860']\n",
      "{'gastrointestinal': ['CID: 134812774', 'CID: 134693262', 'CID: 134693151', 'CID: 134693125', 'CID: 134692133', 'CID: 134689750', 'CID: 134689748', 'CID: 134613184', 'CID: 133687779', 'CID: 133611978', 'CID: 133611795', 'CID: 133126689', 'CID: 132472048', 'CID: 131952882', 'CID: 131860341', 'CID: 131855398', 'CID: 131852808', 'CID: 131839611', 'CID: 131750196', 'CID: 131673845'], 'dermatologic': ['CID: 134715834', 'CID: 134695316', 'CID: 134694728', 'CID: 134687786', 'CID: 134129698', 'CID: 133659920', 'CID: 132274082', 'CID: 131882257', 'CID: 131839615', 'CID: 131750284', 'CID: 131635427', 'CID: 129848228', 'CID: 129317859', 'CID: 126969212', 'CID: 123134270', 'CID: 123134263', 'CID: 122172945', 'CID: 122130768', 'CID: 122130352', 'CID: 122130146'], 'urological': ['CID: 133687147', 'CID: 129626586', 'CID: 123134378', 'CID: 91809622', 'CID: 86217377', 'CID: 76969110', 'CID: 76963508', 'CID: 73161212', 'CID: 56842231', 'CID: 29918992', 'CID: 25137865', 'CID: 25137847', 'CID: 24756844', 'CID: 24721101', 'CID: 23581791', 'CID: 23154427', 'CID: 10173934', 'CID: 10142962', 'CID: 10030798', 'CID: 9865528'], 'cns': ['CID: 134812801', 'CID: 134812767', 'CID: 134694841', 'CID: 134693241', 'CID: 134692433', 'CID: 134688985', 'CID: 134688930', 'CID: 134688695', 'CID: 134688676', 'CID: 134688148', 'CID: 134687052', 'CID: 134160331', 'CID: 134129493', 'CID: 133655490', 'CID: 133566183', 'CID: 132535036', 'CID: 131874126', 'CID: 131849609', 'CID: 131846738', 'CID: 131846146'], 'antirhuemetic': ['CID: 134715169', 'CID: 134694728', 'CID: 134693125', 'CID: 134693106', 'CID: 134688123', 'CID: 134612785', 'CID: 134129698', 'CID: 133659920', 'CID: 133126370', 'CID: 133126366', 'CID: 133108869', 'CID: 132274082', 'CID: 131883685', 'CID: 131750284', 'CID: 129735029', 'CID: 129672477', 'CID: 129651175', 'CID: 129628892', 'CID: 129628425', 'CID: 129628397'], 'antiinfective': ['CID: 134812815', 'CID: 134812771', 'CID: 134812766', 'CID: 134715567', 'CID: 134715169', 'CID: 134695356', 'CID: 134695341', 'CID: 134695314', 'CID: 134694994', 'CID: 134694935', 'CID: 134694927', 'CID: 134694877', 'CID: 134694652', 'CID: 134694650', 'CID: 134694634', 'CID: 134694148', 'CID: 134694132', 'CID: 134694060', 'CID: 134694055', 'CID: 134694053'], 'antineoplastic': ['CID: 134812801', 'CID: 134812774', 'CID: 134812771', 'CID: 134812766', 'CID: 134715513', 'CID: 134715169', 'CID: 134695316', 'CID: 134694736', 'CID: 134694719', 'CID: 134694652', 'CID: 134694361', 'CID: 134694358', 'CID: 134694237', 'CID: 134694193', 'CID: 134694146', 'CID: 134693255', 'CID: 134692730', 'CID: 134692670', 'CID: 134692159', 'CID: 134692158'], 'reproductivecontrol': ['CID: 134715739', 'CID: 134695364', 'CID: 134694860', 'CID: 134694651', 'CID: 134693179', 'CID: 134692581', 'CID: 134688977', 'CID: 134688373', 'CID: 131954634', 'CID: 129317898', 'CID: 129317889', 'CID: 129216848', 'CID: 126968545', 'CID: 126843203', 'CID: 122130568', 'CID: 122130567', 'CID: 122130111', 'CID: 117072398', 'CID: 91758695', 'CID: 90659394'], 'lipidregulating': ['CID: 134693151', 'CID: 134693095', 'CID: 134689750', 'CID: 129734999', 'CID: 124306862', 'CID: 118984460', 'CID: 102004873', 'CID: 101610369', 'CID: 101607775', 'CID: 100969459', 'CID: 100914982', 'CID: 97938126', 'CID: 91746710', 'CID: 89522394', 'CID: 87071853', 'CID: 76966351', 'CID: 72792429', 'CID: 71301230', 'CID: 70695641', 'CID: 70695640'], 'hematologic': ['CID: 134812791', 'CID: 134694981', 'CID: 134692713', 'CID: 134692601', 'CID: 134692167', 'CID: 133602833', 'CID: 133588927', 'CID: 133562784', 'CID: 133126842', 'CID: 133126841', 'CID: 133126726', 'CID: 131888695', 'CID: 131844884', 'CID: 131750211', 'CID: 131750177', 'CID: 131704328', 'CID: 129893562', 'CID: 129720810', 'CID: 129691409', 'CID: 129630527'], 'respiratorysystem': ['CID: 134694655', 'CID: 134688985', 'CID: 134688726', 'CID: 134688695', 'CID: 134688323', 'CID: 134687786', 'CID: 134129700', 'CID: 133687604', 'CID: 131632429', 'CID: 131632115', 'CID: 129318280', 'CID: 126968472', 'CID: 124080907', 'CID: 122362099', 'CID: 122130905', 'CID: 122130768', 'CID: 118987285', 'CID: 102004898', 'CID: 92132516', 'CID: 91972160'], 'cardio': ['CID: 134812791', 'CID: 134715568', 'CID: 134715447', 'CID: 134694981', 'CID: 134694655', 'CID: 134694117', 'CID: 134694070', 'CID: 134693137', 'CID: 134693125', 'CID: 134692601', 'CID: 134692433', 'CID: 134692167', 'CID: 134688985', 'CID: 134688908', 'CID: 134688695', 'CID: 134688676', 'CID: 134687896', 'CID: 134687055', 'CID: 134687052', 'CID: 134487455'], 'antiinflammatory': ['CID: 134715169', 'CID: 134694860', 'CID: 134694728', 'CID: 134693234', 'CID: 134693125', 'CID: 134693106', 'CID: 134688977', 'CID: 134688323', 'CID: 134688123', 'CID: 134687786', 'CID: 134612785', 'CID: 134129698', 'CID: 133687604', 'CID: 133659920', 'CID: 133562807', 'CID: 133126370', 'CID: 133126366', 'CID: 131954647', 'CID: 131888681', 'CID: 131883685']}\n",
      "20\n"
     ]
    }
   ],
   "source": [
    "tables_list=glob.glob(\"../data/*.txt\")\n",
    "print(tables_list)\n",
    "CID_dict = {}\n",
    "cidslist = []\n",
    "for table in tables_list:\n",
    "    tableID = table.replace('.txt','')\n",
    "    tableID = tableID.replace('../data/','')\n",
    "    CID_dict[tableID] = []\n",
    "    with open(table) as inf:\n",
    "        for aline in inf.readlines():\n",
    "            if aline.startswith('CID')==True:\n",
    "                CID_dict[tableID].append(aline.strip('\\n'))\n",
    "                \n",
    "print(CID_dict[tableID][0:2])\n",
    "print(CID_dict)\n",
    "\n",
    "print(len(CID_dict[tableID]))"
   ]
  },
  {
   "cell_type": "code",
   "execution_count": 2,
   "metadata": {},
   "outputs": [
    {
     "name": "stdout",
     "output_type": "stream",
     "text": [
      "['../data/gastrointestinal.txt', '../data/dermatologic.txt', '../data/urological.txt', '../data/cns.txt', '../data/antirhuemetic.txt', '../data/antiinfective.txt', '../data/antineoplastic.txt', '../data/reproductivecontrol.txt', '../data/lipidregulating.txt', '../data/hematologic.txt', '../data/respiratorysystem.txt', '../data/cardio.txt', '../data/antiinflammatory.txt']\n"
     ]
    },
    {
     "ename": "NameError",
     "evalue": "name 'csv' is not defined",
     "output_type": "error",
     "traceback": [
      "\u001b[0;31m---------------------------------------------------------------------------\u001b[0m",
      "\u001b[0;31mNameError\u001b[0m                                 Traceback (most recent call last)",
      "\u001b[0;32m<ipython-input-2-21575ab03306>\u001b[0m in \u001b[0;36m<module>\u001b[0;34m()\u001b[0m\n\u001b[1;32m      5\u001b[0m \u001b[0;32mfor\u001b[0m \u001b[0mtable\u001b[0m \u001b[0;32min\u001b[0m \u001b[0mtables_list\u001b[0m\u001b[0;34m:\u001b[0m\u001b[0;34m\u001b[0m\u001b[0m\n\u001b[1;32m      6\u001b[0m     \u001b[0;32mwith\u001b[0m \u001b[0mopen\u001b[0m\u001b[0;34m(\u001b[0m\u001b[0mtable\u001b[0m\u001b[0;34m)\u001b[0m \u001b[0;32mas\u001b[0m \u001b[0minf\u001b[0m\u001b[0;34m:\u001b[0m\u001b[0;34m\u001b[0m\u001b[0m\n\u001b[0;32m----> 7\u001b[0;31m         \u001b[0mreader\u001b[0m \u001b[0;34m=\u001b[0m \u001b[0mcsv\u001b[0m\u001b[0;34m.\u001b[0m\u001b[0mreader\u001b[0m\u001b[0;34m(\u001b[0m\u001b[0minf\u001b[0m\u001b[0;34m,\u001b[0m \u001b[0mdelimiter\u001b[0m\u001b[0;34m=\u001b[0m\u001b[0;34m\"\\t\"\u001b[0m\u001b[0;34m)\u001b[0m\u001b[0;34m\u001b[0m\u001b[0m\n\u001b[0m\u001b[1;32m      8\u001b[0m         \u001b[0msmiles\u001b[0m \u001b[0;34m=\u001b[0m \u001b[0mlist\u001b[0m\u001b[0;34m(\u001b[0m\u001b[0mzip\u001b[0m\u001b[0;34m(\u001b[0m\u001b[0;34m*\u001b[0m\u001b[0mreader\u001b[0m\u001b[0;34m)\u001b[0m\u001b[0;34m)\u001b[0m\u001b[0;34m[\u001b[0m\u001b[0;36m0\u001b[0m\u001b[0;34m]\u001b[0m\u001b[0;34m\u001b[0m\u001b[0m\n\u001b[1;32m      9\u001b[0m         \u001b[0msmileslist\u001b[0m\u001b[0;34m.\u001b[0m\u001b[0mextend\u001b[0m\u001b[0;34m(\u001b[0m\u001b[0mlist\u001b[0m\u001b[0;34m(\u001b[0m\u001b[0msmiles\u001b[0m\u001b[0;34m)\u001b[0m\u001b[0;34m[\u001b[0m\u001b[0;36m1\u001b[0m\u001b[0;34m:\u001b[0m\u001b[0;34m]\u001b[0m\u001b[0;34m)\u001b[0m\u001b[0;34m\u001b[0m\u001b[0m\n",
      "\u001b[0;31mNameError\u001b[0m: name 'csv' is not defined"
     ]
    }
   ],
   "source": [
    "tables_list=glob.glob(\"../data/*.txt\")\n",
    "print(tables_list)\n",
    "smileslist = []\n",
    "        \n",
    "for table in tables_list:\n",
    "    with open(table) as inf:\n",
    "        reader = csv.reader(inf, delimiter=\"\\t\")\n",
    "        smiles = list(zip(*reader))[0]\n",
    "        smileslist.extend(list(smiles)[1:])\n",
    "        print(table)\n",
    "    \n",
    "print(len(smileslist))\n",
    "print(smileslist[0])\n",
    "\n",
    "#smiles= smileslist[1:len(smileslist)]  ### cut the first line, which is the header\n",
    "\n",
    "print(type(tables_list))"
   ]
  },
  {
   "cell_type": "code",
   "execution_count": null,
   "metadata": {},
   "outputs": [],
   "source": []
  },
  {
   "cell_type": "code",
   "execution_count": null,
   "metadata": {},
   "outputs": [],
   "source": []
  }
 ],
 "metadata": {
  "kernelspec": {
   "display_name": "fastai",
   "language": "python",
   "name": "fastai"
  },
  "language_info": {
   "codemirror_mode": {
    "name": "ipython",
    "version": 3
   },
   "file_extension": ".py",
   "mimetype": "text/x-python",
   "name": "python",
   "nbconvert_exporter": "python",
   "pygments_lexer": "ipython3",
   "version": "3.6.6"
  }
 },
 "nbformat": 4,
 "nbformat_minor": 2
}
